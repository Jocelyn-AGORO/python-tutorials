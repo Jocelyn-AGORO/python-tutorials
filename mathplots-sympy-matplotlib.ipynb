{
 "cells": [
  {
   "cell_type": "markdown",
   "id": "78e2ffff",
   "metadata": {},
   "source": [
    "# Some simple approach to math graph ploter"
   ]
  },
  {
   "cell_type": "markdown",
   "id": "95b3d402",
   "metadata": {},
   "source": [
    "## Setting up environement"
   ]
  },
  {
   "cell_type": "code",
   "execution_count": 1,
   "id": "93ed8900",
   "metadata": {},
   "outputs": [
    {
     "name": "stdout",
     "output_type": "stream",
     "text": [
      "Note: you may need to restart the kernel to use updated packages.\n"
     ]
    },
    {
     "name": "stderr",
     "output_type": "stream",
     "text": [
      "ERROR: You must give at least one requirement to install (see \"pip help install\")\n"
     ]
    },
    {
     "name": "stdout",
     "output_type": "stream",
     "text": [
      "Requirement already satisfied: numpy in c:\\programdata\\anaconda3\\lib\\site-packages (1.20.1)\n",
      "Note: you may need to restart the kernel to use updated packages.\n",
      "Requirement already satisfied: matplotlib in c:\\programdata\\anaconda3\\lib\\site-packages (3.3.4)\n",
      "Requirement already satisfied: pyparsing!=2.0.4,!=2.1.2,!=2.1.6,>=2.0.3 in c:\\programdata\\anaconda3\\lib\\site-packages (from matplotlib) (2.4.7)\n",
      "Requirement already satisfied: pillow>=6.2.0 in c:\\programdata\\anaconda3\\lib\\site-packages (from matplotlib) (8.2.0)\n",
      "Requirement already satisfied: cycler>=0.10 in c:\\programdata\\anaconda3\\lib\\site-packages (from matplotlib) (0.10.0)\n",
      "Requirement already satisfied: python-dateutil>=2.1 in c:\\programdata\\anaconda3\\lib\\site-packages (from matplotlib) (2.8.1)\n",
      "Requirement already satisfied: kiwisolver>=1.0.1 in c:\\programdata\\anaconda3\\lib\\site-packages (from matplotlib) (1.3.1)\n",
      "Requirement already satisfied: numpy>=1.15 in c:\\programdata\\anaconda3\\lib\\site-packages (from matplotlib) (1.20.1)\n",
      "Requirement already satisfied: six in c:\\programdata\\anaconda3\\lib\\site-packages (from cycler>=0.10->matplotlib) (1.15.0)\n",
      "Note: you may need to restart the kernel to use updated packages.\n"
     ]
    }
   ],
   "source": [
    "import sys\n",
    "# install sympy for symbolics math in python\n",
    "%pip install\n",
    "# install numpy for fast math computation\n",
    "%pip install numpy\n",
    "# install matplotlib for ploting math graph\n",
    "%pip install matplotlib"
   ]
  },
  {
   "cell_type": "markdown",
   "id": "29f1344b",
   "metadata": {},
   "source": [
    "# Define our variable for math expressions"
   ]
  },
  {
   "cell_type": "code",
   "execution_count": 1,
   "id": "11e317c2",
   "metadata": {},
   "outputs": [
    {
     "data": {
      "text/latex": [
       "$\\displaystyle x$"
      ],
      "text/plain": [
       "x"
      ]
     },
     "execution_count": 1,
     "metadata": {},
     "output_type": "execute_result"
    }
   ],
   "source": [
    "from sympy import symbols\n",
    "\n",
    "# define 'x' as our symbol for math expression\n",
    "x = symbols('x')\n",
    "x"
   ]
  },
  {
   "cell_type": "markdown",
   "id": "715823b4",
   "metadata": {},
   "source": [
    "# We can now create some math expressions\n",
    "I am going to define some fundamentals functions that is well know\n",
    "\n",
    "* x\n",
    "* |x|\n",
    "* x²\n",
    "* ln(x)\n",
    "* exp(x)\n"
   ]
  },
  {
   "cell_type": "code",
   "execution_count": 2,
   "id": "2596e11b",
   "metadata": {},
   "outputs": [
    {
     "name": "stdout",
     "output_type": "stream",
     "text": [
      "x\n",
      "Abs(x)\n",
      "x**2\n",
      "log(x)\n",
      "exp(x)\n"
     ]
    }
   ],
   "source": [
    "# let first import sympy\n",
    "from sympy import Abs, log, exp\n",
    "# as 'x' is already a symbol we can just assign it\n",
    "x_expression = x\n",
    "print(x_expression)\n",
    "# create expression for '|x|'\n",
    "x_abs_expression = Abs(x)\n",
    "print(x_abs_expression)\n",
    "# now 'x²' expression\n",
    "x_square_expression = x**2\n",
    "print(x_square_expression)\n",
    "# natural logarithm expression\n",
    "natural_log_expression = log(x)\n",
    "print(natural_log_expression)\n",
    "# exponantial expression\n",
    "expo_expression = exp(x)\n",
    "print(expo_expression)"
   ]
  },
  {
   "cell_type": "markdown",
   "id": "cd24af14",
   "metadata": {},
   "source": [
    "# Let Play with these expressions"
   ]
  },
  {
   "cell_type": "code",
   "execution_count": 3,
   "id": "76b6be6e",
   "metadata": {},
   "outputs": [
    {
     "name": "stdout",
     "output_type": "stream",
     "text": [
      "FInal Result after evaluation : \n",
      "\n",
      "x = 5\n",
      "|x| = |-10| = 10\n",
      "x² = 10² = 100\n",
      "log(x) = log(1) = 0\n",
      "exp(x) = exp(0) = 1\n"
     ]
    }
   ],
   "source": [
    "# Compute expression value for specific x values\n",
    "x_value = 5\n",
    "x_evaluation = x_expression.subs(x, x_value)\n",
    "\n",
    "# substitute 'x' by -10 in the expression\n",
    "x_value = -10\n",
    "abs_evaluation = x_abs_expression.subs(x, x_value)\n",
    "\n",
    "# substitute 'x' by 2 in the expression\n",
    "x_value = 10\n",
    "square_evaluation = x_square_expression.subs(x, x_value)\n",
    "\n",
    "# substitute 'x' by 1 in logarithm expression\n",
    "x_value = 1\n",
    "log_evalution = natural_log_expression.subs(x, x_value)\n",
    "\n",
    "# substitute 'x' by 0 in exponantial expression\n",
    "x_value = 0\n",
    "expo_evaluation = expo_expression.subs(x, x_value)\n",
    "\n",
    "print(\"FInal Result after evaluation : \\n\")\n",
    "print(f\"x = {x_evaluation}\")\n",
    "print(f\"|x| = |-10| = {abs_evaluation}\")\n",
    "print(f\"x² = 10² = {square_evaluation}\")\n",
    "print(f\"log(x) = log(1) = {log_evalution}\")\n",
    "print(f\"exp(x) = exp(0) = {expo_evaluation}\")"
   ]
  },
  {
   "cell_type": "markdown",
   "id": "b742898e",
   "metadata": {},
   "source": [
    "# Cool now we know how to evaluate expression\n",
    "# We can begin ploting math graphs"
   ]
  },
  {
   "cell_type": "code",
   "execution_count": 8,
   "id": "9f0338ec",
   "metadata": {},
   "outputs": [
    {
     "name": "stdout",
     "output_type": "stream",
     "text": [
      "x_axis values : [-10.   -9.5  -9.   -8.5  -8.   -7.5  -7.   -6.5  -6.   -5.5  -5.   -4.5\n",
      "  -4.   -3.5  -3.   -2.5  -2.   -1.5  -1.   -0.5   0.    0.5   1.    1.5\n",
      "   2.    2.5   3.    3.5   4.    4.5   5.    5.5   6.    6.5   7.    7.5\n",
      "   8.    8.5   9.    9.5]\n",
      "y_axis values : [-10.   -9.5  -9.   -8.5  -8.   -7.5  -7.   -6.5  -6.   -5.5  -5.   -4.5\n",
      "  -4.   -3.5  -3.   -2.5  -2.   -1.5  -1.   -0.5   0.    0.5   1.    1.5\n",
      "   2.    2.5   3.    3.5   4.    4.5   5.    5.5   6.    6.5   7.    7.5\n",
      "   8.    8.5   9.    9.5]\n"
     ]
    }
   ],
   "source": [
    "# now we need to import numpy for fast computation and broadcasting\n",
    "import numpy as np\n",
    "\n",
    "# create values for the x-axis of our plot\n",
    "x_axis = np.arange(-10, 10, 0.5) # make a x-axis from -10 to 10 with 0.5 step\n",
    "# create values for the y-axis of our plot\n",
    "y_axis = np.arange(-10, 10, 0.5)\n",
    "# print our values\n",
    "print(f\"x_axis values : {x_axis}\")\n",
    "print(f\"y_axis values : {y_axis}\")"
   ]
  },
  {
   "cell_type": "markdown",
   "id": "05d0139a",
   "metadata": {},
   "source": [
    "# Plot our y = x math grap with matplotlib"
   ]
  },
  {
   "cell_type": "code",
   "execution_count": 9,
   "id": "1c365df9",
   "metadata": {},
   "outputs": [
    {
     "data": {
      "image/png": "[encoded data removed]",
      "text/plain": [
       "<Figure size 432x288 with 1 Axes>"
      ]
     },
     "metadata": {
      "needs_background": "light"
     },
     "output_type": "display_data"
    },
    {
     "data": {
      "text/plain": [
       "<Figure size 432x288 with 0 Axes>"
      ]
     },
     "metadata": {},
     "output_type": "display_data"
    }
   ],
   "source": [
    "# first import matplotlib submodule pyplot to plot\n",
    "import matplotlib.pyplot as plt\n",
    "\n",
    "plt.plot(x_axis, y_axis)\n",
    "plt.title(\"Math graph y = x \")\n",
    "plt.show()\n",
    "plt.clf()"
   ]
  },
  {
   "cell_type": "markdown",
   "id": "b1620f06",
   "metadata": {},
   "source": [
    "# Plot y = |x| math grap with matplotlib"
   ]
  },
  {
   "cell_type": "code",
   "execution_count": 10,
   "id": "2fd2d2da",
   "metadata": {},
   "outputs": [
    {
     "name": "stdout",
     "output_type": "stream",
     "text": [
      "x_axis values : [-10.   -9.5  -9.   -8.5  -8.   -7.5  -7.   -6.5  -6.   -5.5  -5.   -4.5\n",
      "  -4.   -3.5  -3.   -2.5  -2.   -1.5  -1.   -0.5   0.    0.5   1.    1.5\n",
      "   2.    2.5   3.    3.5   4.    4.5   5.    5.5   6.    6.5   7.    7.5\n",
      "   8.    8.5   9.    9.5]\n",
      "y_axis values : [10.   9.5  9.   8.5  8.   7.5  7.   6.5  6.   5.5  5.   4.5  4.   3.5\n",
      "  3.   2.5  2.   1.5  1.   0.5  0.   0.5  1.   1.5  2.   2.5  3.   3.5\n",
      "  4.   4.5  5.   5.5  6.   6.5  7.   7.5  8.   8.5  9.   9.5]\n"
     ]
    }
   ],
   "source": [
    "# create values for the x-axis of our plot\n",
    "x_axis = np.arange(-10, 10, 0.5) # make a x-axis from -10 to 10 with 0.5 step\n",
    "# create values for the y-axis of our plot\n",
    "y_axis = np.absolute(x_axis)\n",
    "# print our values\n",
    "print(f\"x_axis values : {x_axis}\")\n",
    "print(f\"y_axis values : {y_axis}\")"
   ]
  },
  {
   "cell_type": "markdown",
   "id": "2d433be4",
   "metadata": {},
   "source": [
    "# Let see the graph for y = |x|"
   ]
  },
  {
   "cell_type": "code",
   "execution_count": 11,
   "id": "656e104b",
   "metadata": {},
   "outputs": [
    {
     "data": {
      "image/png": "[encoded data removed]",
      "text/plain": [
       "<Figure size 432x288 with 1 Axes>"
      ]
     },
     "metadata": {
      "needs_background": "light"
     },
     "output_type": "display_data"
    },
    {
     "data": {
      "text/plain": [
       "<Figure size 432x288 with 0 Axes>"
      ]
     },
     "metadata": {},
     "output_type": "display_data"
    }
   ],
   "source": [
    "plt.plot(x_axis, y_axis)\n",
    "plt.title(\"Math graph y = |x| \")\n",
    "plt.show()\n",
    "plt.clf()"
   ]
  },
  {
   "cell_type": "markdown",
   "id": "745ab0d0",
   "metadata": {},
   "source": [
    "# Now plot our x² math graph"
   ]
  },
  {
   "cell_type": "code",
   "execution_count": 12,
   "id": "6c99e15e",
   "metadata": {},
   "outputs": [
    {
     "name": "stdout",
     "output_type": "stream",
     "text": [
      "x_axis values : [-10.   -9.5  -9.   -8.5  -8.   -7.5  -7.   -6.5  -6.   -5.5  -5.   -4.5\n",
      "  -4.   -3.5  -3.   -2.5  -2.   -1.5  -1.   -0.5   0.    0.5   1.    1.5\n",
      "   2.    2.5   3.    3.5   4.    4.5   5.    5.5   6.    6.5   7.    7.5\n",
      "   8.    8.5   9.    9.5]\n",
      "y_axis values : [100.000000000000 90.2500000000000 81.0000000000000 72.2500000000000\n",
      " 64.0000000000000 56.2500000000000 49.0000000000000 42.2500000000000\n",
      " 36.0000000000000 30.2500000000000 25.0000000000000 20.2500000000000\n",
      " 16.0000000000000 12.2500000000000 9.00000000000000 6.25000000000000\n",
      " 4.00000000000000 2.25000000000000 1.00000000000000 0.250000000000000 0\n",
      " 0.250000000000000 1.00000000000000 2.25000000000000 4.00000000000000\n",
      " 6.25000000000000 9.00000000000000 12.2500000000000 16.0000000000000\n",
      " 20.2500000000000 25.0000000000000 30.2500000000000 36.0000000000000\n",
      " 42.2500000000000 49.0000000000000 56.2500000000000 64.0000000000000\n",
      " 72.2500000000000 81.0000000000000 90.2500000000000]\n"
     ]
    }
   ],
   "source": [
    "# create values for the x-axis of our plot\n",
    "x_axis = np.arange(-10, 10, 0.5) # make a x-axis from -10 to 10 with 0.5 step\n",
    "# create values for the y-axis of our plot\n",
    "y_axis = np.array([ x_square_expression.subs(x, x_value) for x_value in x_axis ])\n",
    "# print our values\n",
    "print(f\"x_axis values : {x_axis}\")\n",
    "print(f\"y_axis values : {y_axis}\")"
   ]
  },
  {
   "cell_type": "markdown",
   "id": "7fb2c362",
   "metadata": {},
   "source": [
    "# x² Graph"
   ]
  },
  {
   "cell_type": "code",
   "execution_count": 13,
   "id": "463fc619",
   "metadata": {},
   "outputs": [
    {
     "data": {
      "image/png": "[encoded data removed]",
      "text/plain": [
       "<Figure size 432x288 with 1 Axes>"
      ]
     },
     "metadata": {
      "needs_background": "light"
     },
     "output_type": "display_data"
    },
    {
     "data": {
      "text/plain": [
       "<Figure size 432x288 with 0 Axes>"
      ]
     },
     "metadata": {},
     "output_type": "display_data"
    }
   ],
   "source": [
    "plt.plot(x_axis, y_axis)\n",
    "plt.title(\"Math graph y = x² \")\n",
    "plt.show()\n",
    "plt.clf()"
   ]
  },
  {
   "cell_type": "markdown",
   "id": "8bca28e3",
   "metadata": {},
   "source": [
    "# Plot our log(x) math graph"
   ]
  },
  {
   "cell_type": "code",
   "execution_count": 14,
   "id": "ff897397",
   "metadata": {},
   "outputs": [
    {
     "name": "stdout",
     "output_type": "stream",
     "text": [
      "x_axis values : [0.01 0.06 0.11 0.16 0.21 0.26 0.31 0.36 0.41 0.46 0.51 0.56 0.61 0.66\n",
      " 0.71 0.76 0.81 0.86 0.91 0.96 1.01 1.06 1.11 1.16 1.21 1.26 1.31 1.36\n",
      " 1.41 1.46 1.51 1.56 1.61 1.66 1.71 1.76 1.81 1.86 1.91 1.96 2.01 2.06\n",
      " 2.11 2.16 2.21 2.26 2.31 2.36 2.41 2.46 2.51 2.56 2.61 2.66 2.71 2.76\n",
      " 2.81 2.86 2.91 2.96 3.01 3.06 3.11 3.16 3.21 3.26 3.31 3.36 3.41 3.46\n",
      " 3.51 3.56 3.61 3.66 3.71 3.76 3.81 3.86 3.91 3.96 4.01 4.06 4.11 4.16\n",
      " 4.21 4.26 4.31 4.36 4.41 4.46 4.51 4.56 4.61 4.66 4.71 4.76 4.81 4.86\n",
      " 4.91 4.96 5.01 5.06 5.11 5.16 5.21 5.26 5.31 5.36 5.41 5.46 5.51 5.56\n",
      " 5.61 5.66 5.71 5.76 5.81 5.86 5.91 5.96 6.01 6.06 6.11 6.16 6.21 6.26\n",
      " 6.31 6.36 6.41 6.46 6.51 6.56 6.61 6.66 6.71 6.76 6.81 6.86 6.91 6.96\n",
      " 7.01 7.06 7.11 7.16 7.21 7.26 7.31 7.36 7.41 7.46 7.51 7.56 7.61 7.66\n",
      " 7.71 7.76 7.81 7.86 7.91 7.96 8.01 8.06 8.11 8.16 8.21 8.26 8.31 8.36\n",
      " 8.41 8.46 8.51 8.56 8.61 8.66 8.71 8.76 8.81 8.86 8.91 8.96 9.01 9.06\n",
      " 9.11 9.16 9.21 9.26 9.31 9.36 9.41 9.46 9.51 9.56 9.61 9.66 9.71 9.76\n",
      " 9.81 9.86 9.91 9.96]\n",
      "y_axis values : [-4.60517018598809 -2.81341071676004 -2.20727491318972 -1.83258146374831\n",
      " -1.56064774826467 -1.34707364796661 -1.17118298150294 -1.02165124753198\n",
      " -0.891598119283784 -0.776528789498996 -0.673344553263766\n",
      " -0.579818495252942 -0.494296321814780 -0.415515443961666\n",
      " -0.342490308946776 -0.274436845701760 -0.210721031315653\n",
      " -0.150822889734584 -0.0943106794712413 -0.0408219945202550\n",
      " 0.00995033085316809 0.0582689081239758 0.104360015324243\n",
      " 0.148420005118273 0.190620359608650 0.231111720963387 0.270027137213060\n",
      " 0.307484699747961 0.343589704390077 0.378436435720245 0.412109650826833\n",
      " 0.444685821261446 0.476234178996372 0.506817602368452 0.536493370514569\n",
      " 0.565313809050060 0.593326845277734 0.620576487725110 0.647103242058539\n",
      " 0.672944473242426 0.698134722070984 0.722705982801490 0.746687947487975\n",
      " 0.770108221696074 0.792992515529661 0.815364813284194 0.837247524533702\n",
      " 0.858661619037519 0.879626747502564 0.900161349944271 0.920282753143692\n",
      " 0.940007258491471 0.959350221334602 0.978326122793608 0.996948634891610\n",
      " 1.01523067972906 1.03318448334565 1.05082162483176 1.06815308118340\n",
      " 1.08518926833597 1.10194007876078 1.11841491596429 1.13462272619114\n",
      " 1.15057202759882 1.16627093714192 1.18172719537862 1.19694818938897\n",
      " 1.21194097397511 1.22671229129543 1.24126858906963 1.25561603747777\n",
      " 1.26976054486394 1.28370777234479 1.29746314741327 1.31103187661934\n",
      " 1.32441895740180 1.33762918913861 1.35066718347674 1.36353737399727\n",
      " 1.37624402526639 1.38879124131848 1.40118297361364 1.41342302850814\n",
      " 1.42551507427317 1.43746264769429 1.44926916028128 1.46093790411566\n",
      " 1.47247205736094 1.48387468945875 1.49514876603197 1.50629715351459\n",
      " 1.51732262352629 1.52822785700856 1.53901544813755 1.54968790802833\n",
      " 1.56024766824333 1.57069708411767 1.58103843791240 1.59127394180643\n",
      " 1.60140574073684 1.61143591509677 1.62136648329937 1.63119940421561\n",
      " 1.64093657949347 1.65057985576528 1.66013102674962 1.66959183525385\n",
      " 1.67896397508271 1.68824909285839 1.69744878975681 1.70656462316482\n",
      " 1.71559810826249 1.72455071953461 1.73342389221509 1.74221902366792\n",
      " 1.75093747470780 1.75958057086382 1.76814960358892 1.77664583141801\n",
      " 1.78507048107726 1.79342474854712 1.80170980008122 1.80992677318350\n",
      " 1.81807677754543 1.82616089594539 1.83418018511201 1.84213567655312\n",
      " 1.85002837735203 1.85785927093258 1.86562931779451 1.87333945622048\n",
      " 1.88099060295600 1.88858365386359 1.89611948455230 1.90359895098359\n",
      " 1.91102289005487 1.91839212016142 1.92570744173779 1.93296963777958\n",
      " 1.94017947434633 1.94733770104650 1.95444505150515 1.96150224381515\n",
      " 1.96850998097255 1.97546895129686 1.98237982883670 1.98924327376169\n",
      " 1.99605993274078 2.00283043930800 2.00955541421567 2.01623546577604\n",
      " 2.02287119019144 2.02946317187359 2.03601198375250 2.04251818757524\n",
      " 2.04898233419513 2.05540496385159 2.06178660644112 2.06812778177956\n",
      " 2.07442899985629 2.08069076108027 2.08691355651854 2.09309786812732\n",
      " 2.09924416897602 2.10535292346434 2.11142458753289 2.11745960886736\n",
      " 2.12345842709661 2.12942147398486 2.13534917361813 2.14124194258528\n",
      " 2.14710019015365 2.15292431843964 2.15871472257434 2.16447179086441\n",
      " 2.17019590494830 2.17588743994809 2.18154676461699 2.18717424148272\n",
      " 2.19277022698684 2.19833507162025 2.20386912005489 2.20937271127187\n",
      " 2.21484617868604 2.22028985026722 2.22570404865809 2.23108909128898\n",
      " 2.23644529048950 2.24177295359729 2.24707238306379 2.25234387655730\n",
      " 2.25758772706331 2.26280422298220 2.26799364822443 2.27315628230323\n",
      " 2.27829240042500 2.28340227357727 2.28848616861454 2.29354434834190\n",
      " 2.29857707159651]\n"
     ]
    }
   ],
   "source": [
    "# create values for the x-axis of our plot\n",
    "x_axis = np.arange(10**-2, 10, 0.05) # make a x-axis from 10**-2 to 10 with 0.5 step\n",
    "# create values for the y-axis of our plot\n",
    "y_axis = np.array([ natural_log_expression.subs(x, x_value) for x_value in x_axis ])\n",
    "# print our values\n",
    "print(f\"x_axis values : {x_axis}\")\n",
    "print(f\"y_axis values : {y_axis}\")"
   ]
  },
  {
   "cell_type": "markdown",
   "id": "ada8eced",
   "metadata": {},
   "source": [
    "# log(x) graph"
   ]
  },
  {
   "cell_type": "code",
   "execution_count": 15,
   "id": "0fbaa232",
   "metadata": {},
   "outputs": [
    {
     "data": {
      "image/png": "[encoded data removed]",
      "text/plain": [
       "<Figure size 432x288 with 1 Axes>"
      ]
     },
     "metadata": {
      "needs_background": "light"
     },
     "output_type": "display_data"
    },
    {
     "data": {
      "text/plain": [
       "<Figure size 432x288 with 0 Axes>"
      ]
     },
     "metadata": {},
     "output_type": "display_data"
    }
   ],
   "source": [
    "plt.plot(x_axis, y_axis)\n",
    "plt.title(\"Math graph y = log(x) \")\n",
    "plt.show()\n",
    "plt.clf()"
   ]
  },
  {
   "cell_type": "markdown",
   "id": "6908b8cd",
   "metadata": {},
   "source": [
    "# Plot our exp(x) math graph"
   ]
  },
  {
   "cell_type": "code",
   "execution_count": 16,
   "id": "86ebe2b0",
   "metadata": {},
   "outputs": [
    {
     "name": "stdout",
     "output_type": "stream",
     "text": [
      "x_axis values : [-10.    -9.75  -9.5   -9.25  -9.    -8.75  -8.5   -8.25  -8.    -7.75\n",
      "  -7.5   -7.25  -7.    -6.75  -6.5   -6.25  -6.    -5.75  -5.5   -5.25\n",
      "  -5.    -4.75  -4.5   -4.25  -4.    -3.75  -3.5   -3.25  -3.    -2.75\n",
      "  -2.5   -2.25  -2.    -1.75  -1.5   -1.25  -1.    -0.75  -0.5   -0.25\n",
      "   0.     0.25   0.5    0.75   1.     1.25   1.5    1.75   2.     2.25\n",
      "   2.5    2.75   3.     3.25   3.5    3.75   4.     4.25   4.5    4.75]\n",
      "y_axis values : [4.53999297624849e-5 5.82946637308688e-5 7.48518298877006e-5\n",
      " 9.61116520613947e-5 0.000123409804086680 0.000158461325115751\n",
      " 0.000203468369010644 0.000261258557301668 0.000335462627902512\n",
      " 0.000430742540575688 0.000553084370147834 0.000710174388842549\n",
      " 0.000911881965554516 0.00117087962079117 0.00150343919297757\n",
      " 0.00193045413622771 0.00247875217666636 0.00318278079650967\n",
      " 0.00408677143846407 0.00524751839918138 0.00673794699908547\n",
      " 0.00865169520312063 0.0111089965382423 0.0142642339089993\n",
      " 0.0183156388887342 0.0235177458560091 0.0301973834223185\n",
      " 0.0387742078317220 0.0497870683678639 0.0639278612067076\n",
      " 0.0820849986238988 0.105399224561864 0.135335283236613 0.173773943450445\n",
      " 0.223130160148430 0.286504796860190 0.367879441171442 0.472366552741015\n",
      " 0.606530659712633 0.778800783071405 1 1.28402541668774 1.64872127070013\n",
      " 2.11700001661267 2.71828182845905 3.49034295746184 4.48168907033806\n",
      " 5.75460267600573 7.38905609893065 9.48773583635853 12.1824939607035\n",
      " 15.6426318841882 20.0855369231877 25.7903399171931 33.1154519586923\n",
      " 42.5210820000628 54.5981500331442 70.1054123466879 90.0171313005218\n",
      " 115.584284527188]\n"
     ]
    }
   ],
   "source": [
    "# now we need to import numpy for fast computation and broadcasting\n",
    "import numpy as np\n",
    "\n",
    "# create values for the x-axis of our plot\n",
    "x_axis = np.arange(-10, 5, 0.25) # make a x-axis from -10 to 5 with 0.25 step\n",
    "# create values for the y-axis of our plot\n",
    "y_axis = np.array([ expo_expression.subs(x, x_value) for x_value in x_axis ])\n",
    "# print our values\n",
    "print(f\"x_axis values : {x_axis}\")\n",
    "print(f\"y_axis values : {y_axis}\")"
   ]
  },
  {
   "cell_type": "markdown",
   "id": "6b756369",
   "metadata": {},
   "source": [
    "# exp(x) graph"
   ]
  },
  {
   "cell_type": "code",
   "execution_count": 17,
   "id": "ffc3fa55",
   "metadata": {},
   "outputs": [
    {
     "data": {
      "image/png": "[encoded data removed]",
      "text/plain": [
       "<Figure size 432x288 with 1 Axes>"
      ]
     },
     "metadata": {
      "needs_background": "light"
     },
     "output_type": "display_data"
    },
    {
     "data": {
      "text/plain": [
       "<Figure size 432x288 with 0 Axes>"
      ]
     },
     "metadata": {},
     "output_type": "display_data"
    }
   ],
   "source": [
    "plt.plot(x_axis, y_axis)\n",
    "plt.title(\"Math graph y = exp(x) \")\n",
    "plt.show()\n",
    "plt.clf()"
   ]
  },
  {
   "cell_type": "code",
   "execution_count": 18,
   "id": "a3e5d791",
   "metadata": {},
   "outputs": [
    {
     "name": "stdout",
     "output_type": "stream",
     "text": [
      "Custom expression : \n"
     ]
    },
    {
     "data": {
      "text/latex": [
       "$\\displaystyle x^{5} + x^{2} + x$"
      ],
      "text/plain": [
       "x**5 + x**2 + x"
      ]
     },
     "execution_count": 18,
     "metadata": {},
     "output_type": "execute_result"
    }
   ],
   "source": [
    "from sympy import sympify\n",
    "\n",
    "expression = sympify(\"x+x**2+x**5\")\n",
    "print(\"Custom expression : \")\n",
    "expression"
   ]
  },
  {
   "cell_type": "markdown",
   "id": "0e1ed54c",
   "metadata": {},
   "source": [
    "# And Boom 💥, That is very amazing we can now create expression from string\n",
    "# 😱 Oooooh !!!!!!"
   ]
  },
  {
   "cell_type": "code",
   "execution_count": 22,
   "id": "d5e3c215",
   "metadata": {},
   "outputs": [
    {
     "name": "stdout",
     "output_type": "stream",
     "text": [
      "x_axis values : [-10.    -9.75  -9.5   -9.25  -9.    -8.75  -8.5   -8.25  -8.    -7.75\n",
      "  -7.5   -7.25  -7.    -6.75  -6.5   -6.25  -6.    -5.75  -5.5   -5.25\n",
      "  -5.    -4.75  -4.5   -4.25  -4.    -3.75  -3.5   -3.25  -3.    -2.75\n",
      "  -2.5   -2.25  -2.    -1.75  -1.5   -1.25  -1.    -0.75  -0.5   -0.25\n",
      "   0.     0.25   0.5    0.75   1.     1.25   1.5    1.75   2.     2.25\n",
      "   2.5    2.75   3.     3.25   3.5    3.75   4.     4.25   4.5    4.75\n",
      "   5.     5.25   5.5    5.75   6.     6.25   6.5    6.75   7.     7.25\n",
      "   7.5    7.75   8.     8.25   8.5    8.75   9.     9.25   9.5    9.75]\n",
      "y_axis values : [-99910.0000000000 -88024.2568359375 -77297.3437500000 -67642.3955078125\n",
      " -58977.0000000000 -51223.0810546875 -44306.7812500000 -38158.3447265625\n",
      " -32712.0000000000 -27905.8427734375 -23681.7187500000 -19985.1064453125\n",
      " -16765.0000000000 -13973.7919921875 -11567.1562500000 -9503.93066406250\n",
      " -7746.00000000000 -6258.17871093750 -5008.09375000000 -3966.06738281250\n",
      " -3105.00000000000 -2400.25292968750 -1829.53125000000 -1372.76660156250\n",
      " -1012.00000000000 -731.264648437500 -516.468750000000 -355.278320312500\n",
      " -237.000000000000 -152.463867187500 -93.9062500000000 -54.8525390625000\n",
      " -30.0000000000000 -15.1005859375000 -6.84375000000000 -2.73925781250000\n",
      " -1.00000000000000 -0.424804687500000 -0.281250000000000\n",
      " -0.188476562500000 0.0 0.313476562500000 0.781250000000000\n",
      " 1.54980468750000 3.00000000000000 5.86425781250000 11.3437500000000\n",
      " 21.2255859375000 38.0000000000000 64.9775390625000 106.406250000000\n",
      " 167.588867187500 255.000000000000 376.403320312500 540.968750000000\n",
      " 759.389648437500 1044.00000000000 1408.89160156250 1870.03125000000\n",
      " 2445.37792968750 3155.00000000000 4021.19238281250 5068.59375000000\n",
      " 6324.30371093750 7818.00000000000 9582.05566406250 11651.6562500000\n",
      " 14064.9169921875 16863.0000000000 20090.2314453125 23794.2187500000\n",
      " 28025.9677734375 32840.0000000000 38294.4697265625 44451.2812500000\n",
      " 51376.2060546875 59139.0000000000 67813.5205078125 77477.8437500000\n",
      " 88214.3818359375]\n"
     ]
    }
   ],
   "source": [
    "# create values for the x-axis of our plot\n",
    "x_axis = np.arange(-10, 10, 0.25) # make a x-axis from -10 to 10 with 0.25 step\n",
    "# create values for the y-axis of our plot\n",
    "y_axis = np.array([ expression.subs(x, x_value) for x_value in x_axis ])\n",
    "# print our values\n",
    "print(f\"x_axis values : {x_axis}\")\n",
    "print(f\"y_axis values : {y_axis}\")"
   ]
  },
  {
   "cell_type": "markdown",
   "id": "0f3a420a",
   "metadata": {},
   "source": [
    "# Plot x + x² + x^5 math graph()"
   ]
  },
  {
   "cell_type": "code",
   "execution_count": 20,
   "id": "f00443bc",
   "metadata": {},
   "outputs": [
    {
     "data": {
      "image/png": "[encoded data removed]",
      "text/plain": [
       "<Figure size 432x288 with 1 Axes>"
      ]
     },
     "metadata": {
      "needs_background": "light"
     },
     "output_type": "display_data"
    },
    {
     "data": {
      "text/plain": [
       "<Figure size 432x288 with 0 Axes>"
      ]
     },
     "metadata": {},
     "output_type": "display_data"
    }
   ],
   "source": [
    "plt.plot(x_axis, y_axis)\n",
    "plt.title(\"Math graph y = x + x² + x^5\")\n",
    "plt.show()\n",
    "plt.clf()"
   ]
  },
  {
   "cell_type": "markdown",
   "id": "feeb6e70",
   "metadata": {},
   "source": [
    "# Great, now I can ask for user to enter a function"
   ]
  },
  {
   "cell_type": "code",
   "execution_count": 25,
   "id": "947f943d",
   "metadata": {},
   "outputs": [
    {
     "name": "stdout",
     "output_type": "stream",
     "text": [
      "Type your math expression : cos(x**2)+sin(x)\n"
     ]
    },
    {
     "data": {
      "text/latex": [
       "$\\displaystyle \\sin{\\left(x \\right)} + \\cos{\\left(x^{2} \\right)}$"
      ],
      "text/plain": [
       "sin(x) + cos(x**2)"
      ]
     },
     "execution_count": 25,
     "metadata": {},
     "output_type": "execute_result"
    }
   ],
   "source": [
    "function_string = input(\"Type your math expression : \")\n",
    "function_expression = sympify(function_string)\n",
    "function_expression"
   ]
  },
  {
   "cell_type": "markdown",
   "id": "1dc55b1e",
   "metadata": {},
   "source": [
    "# Cool, we get expression that we want, we can plot the graph now"
   ]
  },
  {
   "cell_type": "code",
   "execution_count": 26,
   "id": "ba8e537e",
   "metadata": {},
   "outputs": [
    {
     "name": "stdout",
     "output_type": "stream",
     "text": [
      "x_axis values : [-10.   -9.5  -9.   -8.5  -8.   -7.5  -7.   -6.5  -6.   -5.5  -5.   -4.5\n",
      "  -4.   -3.5  -3.   -2.5  -2.   -1.5  -1.   -0.5   0.    0.5   1.    1.5\n",
      "   2.    2.5   3.    3.5   4.    4.5   5.    5.5   6.    6.5   7.    7.5\n",
      "   8.    8.5   9.    9.5]\n",
      "y_axis values : [1.40633998317705 -0.580171286181663 0.364567496779875 -1.79846512740761\n",
      " -0.597501016193832 0.0177293669204333 -0.356394054975152\n",
      " -0.375919668585462 0.151451808571521 1.09943940710260 1.95012708652661\n",
      " 1.14705962682076 -0.200856985015456 1.30115407475729 -1.05225026994454\n",
      " 0.400977274120543 -1.56294104768929 -1.62566860932679 -0.301168678939757\n",
      " 0.489486883106442 1 1.44833796031485 1.38177329067604 0.369321363881315\n",
      " 0.255653805962070 1.59792156232846 -0.770010253824810 0.599587619378054\n",
      " -1.71446197563131 -0.808000608509439 0.0322785372003351\n",
      " -0.311641244038184 -0.407379187826331 0.0543203075901688\n",
      " 0.957579142462426 1.89372932046991 1.38121547705293 -0.201490902160628\n",
      " 1.18880446726339 -0.730473527105281]\n"
     ]
    }
   ],
   "source": [
    "# create values for the x-axis of our plot\n",
    "x_axis = np.arange(-10, 10, 0.5) # make a x-axis from -10 to 10 with 0.5 step\n",
    "# create values for the y-axis of our plot\n",
    "y_axis = np.array([ function_expression.subs(x, x_value) for x_value in x_axis ])\n",
    "# print our values\n",
    "print(f\"x_axis values : {x_axis}\")\n",
    "print(f\"y_axis values : {y_axis}\")"
   ]
  },
  {
   "cell_type": "code",
   "execution_count": 27,
   "id": "0557cff3",
   "metadata": {},
   "outputs": [
    {
     "data": {
      "image/png": "[encoded data removed]",
      "text/plain": [
       "<Figure size 432x288 with 1 Axes>"
      ]
     },
     "metadata": {
      "needs_background": "light"
     },
     "output_type": "display_data"
    },
    {
     "data": {
      "text/plain": [
       "<Figure size 432x288 with 0 Axes>"
      ]
     },
     "metadata": {},
     "output_type": "display_data"
    }
   ],
   "source": [
    "plt.plot(x_axis, y_axis)\n",
    "plt.title(f\"Math graph y = {function_string}\")\n",
    "plt.show()\n",
    "plt.clf()"
   ]
  },
  {
   "cell_type": "markdown",
   "id": "90e6203c",
   "metadata": {},
   "source": [
    "# Cool It works 👍, but you must guess that it will work for all functions because we have to know the domain of validity of that function "
   ]
  },
  {
   "cell_type": "markdown",
   "id": "e1206a97",
   "metadata": {},
   "source": [
    "# For instance if if enter this expression : \"x+(1/x)\" My code will crash\n",
    "# Why ? because for x = 0, this function has no value\n",
    "# I will cover, how to deal with that in the next lesson"
   ]
  },
  {
   "cell_type": "markdown",
   "id": "8b44d9b1",
   "metadata": {},
   "source": [
    "# Let Try that "
   ]
  },
  {
   "cell_type": "code",
   "execution_count": 29,
   "id": "b1c0dbae",
   "metadata": {},
   "outputs": [
    {
     "name": "stdout",
     "output_type": "stream",
     "text": [
      "Type your math expression : x+(1/x)\n"
     ]
    },
    {
     "data": {
      "text/latex": [
       "$\\displaystyle x + \\frac{1}{x}$"
      ],
      "text/plain": [
       "x + 1/x"
      ]
     },
     "execution_count": 29,
     "metadata": {},
     "output_type": "execute_result"
    }
   ],
   "source": [
    "function_string = input(\"Type your math expression : \")\n",
    "function_expression = sympify(function_string)\n",
    "function_expression"
   ]
  },
  {
   "cell_type": "markdown",
   "id": "92adbe11",
   "metadata": {},
   "source": [
    "# Compute y values"
   ]
  },
  {
   "cell_type": "code",
   "execution_count": 31,
   "id": "989cf511",
   "metadata": {},
   "outputs": [
    {
     "name": "stdout",
     "output_type": "stream",
     "text": [
      "x_axis values : [-10.   -9.5  -9.   -8.5  -8.   -7.5  -7.   -6.5  -6.   -5.5  -5.   -4.5\n",
      "  -4.   -3.5  -3.   -2.5  -2.   -1.5  -1.   -0.5   0.    0.5   1.    1.5\n",
      "   2.    2.5   3.    3.5   4.    4.5   5.    5.5   6.    6.5   7.    7.5\n",
      "   8.    8.5   9.    9.5]\n",
      "y_axis values : [-10.1000000000000 -9.60526315789474 -9.11111111111111 -8.61764705882353\n",
      " -8.12500000000000 -7.63333333333333 -7.14285714285714 -6.65384615384615\n",
      " -6.16666666666667 -5.68181818181818 -5.20000000000000 -4.72222222222222\n",
      " -4.25000000000000 -3.78571428571429 -3.33333333333333 -2.90000000000000\n",
      " -2.50000000000000 -2.16666666666667 -2.00000000000000 -2.50000000000000\n",
      " zoo 2.50000000000000 2.00000000000000 2.16666666666667 2.50000000000000\n",
      " 2.90000000000000 3.33333333333333 3.78571428571429 4.25000000000000\n",
      " 4.72222222222222 5.20000000000000 5.68181818181818 6.16666666666667\n",
      " 6.65384615384615 7.14285714285714 7.63333333333333 8.12500000000000\n",
      " 8.61764705882353 9.11111111111111 9.60526315789474]\n"
     ]
    }
   ],
   "source": [
    "# create values for the x-axis of our plot\n",
    "x_axis = np.arange(-10, 10, 0.5) # make a x-axis from -10 to 10 with 0.5 step\n",
    "# create values for the y-axis of our plot\n",
    "y_axis = np.array([ function_expression.subs(x, x_value) for x_value in x_axis ])\n",
    "# print our values\n",
    "print(f\"x_axis values : {x_axis}\")\n",
    "print(f\"y_axis values : {y_axis}\")"
   ]
  },
  {
   "cell_type": "markdown",
   "id": "07504059",
   "metadata": {},
   "source": [
    "# As expected the code will crash, as we can see in the exception we can't convert complex to float"
   ]
  },
  {
   "cell_type": "code",
   "execution_count": 32,
   "id": "da689358",
   "metadata": {},
   "outputs": [
    {
     "ename": "TypeError",
     "evalue": "can't convert complex to float",
     "output_type": "error",
     "traceback": [
      "\u001b[1;31m---------------------------------------------------------------------------\u001b[0m",
      "\u001b[1;31mTypeError\u001b[0m                                 Traceback (most recent call last)",
      "\u001b[1;32m<ipython-input-32-fea45d3200ef>\u001b[0m in \u001b[0;36m<module>\u001b[1;34m\u001b[0m\n\u001b[1;32m----> 1\u001b[1;33m \u001b[0mplt\u001b[0m\u001b[1;33m.\u001b[0m\u001b[0mplot\u001b[0m\u001b[1;33m(\u001b[0m\u001b[0mx_axis\u001b[0m\u001b[1;33m,\u001b[0m \u001b[0my_axis\u001b[0m\u001b[1;33m)\u001b[0m\u001b[1;33m\u001b[0m\u001b[1;33m\u001b[0m\u001b[0m\n\u001b[0m\u001b[0;32m      2\u001b[0m \u001b[0mplt\u001b[0m\u001b[1;33m.\u001b[0m\u001b[0mtitle\u001b[0m\u001b[1;33m(\u001b[0m\u001b[1;34mf\"Math graph y = {function_string}\"\u001b[0m\u001b[1;33m)\u001b[0m\u001b[1;33m\u001b[0m\u001b[1;33m\u001b[0m\u001b[0m\n\u001b[0;32m      3\u001b[0m \u001b[0mplt\u001b[0m\u001b[1;33m.\u001b[0m\u001b[0mshow\u001b[0m\u001b[1;33m(\u001b[0m\u001b[1;33m)\u001b[0m\u001b[1;33m\u001b[0m\u001b[1;33m\u001b[0m\u001b[0m\n\u001b[0;32m      4\u001b[0m \u001b[0mplt\u001b[0m\u001b[1;33m.\u001b[0m\u001b[0mclf\u001b[0m\u001b[1;33m(\u001b[0m\u001b[1;33m)\u001b[0m\u001b[1;33m\u001b[0m\u001b[1;33m\u001b[0m\u001b[0m\n",
      "\u001b[1;32mC:\\ProgramData\\Anaconda3\\lib\\site-packages\\matplotlib\\pyplot.py\u001b[0m in \u001b[0;36mplot\u001b[1;34m(scalex, scaley, data, *args, **kwargs)\u001b[0m\n\u001b[0;32m   2838\u001b[0m \u001b[1;33m@\u001b[0m\u001b[0m_copy_docstring_and_deprecators\u001b[0m\u001b[1;33m(\u001b[0m\u001b[0mAxes\u001b[0m\u001b[1;33m.\u001b[0m\u001b[0mplot\u001b[0m\u001b[1;33m)\u001b[0m\u001b[1;33m\u001b[0m\u001b[1;33m\u001b[0m\u001b[0m\n\u001b[0;32m   2839\u001b[0m \u001b[1;32mdef\u001b[0m \u001b[0mplot\u001b[0m\u001b[1;33m(\u001b[0m\u001b[1;33m*\u001b[0m\u001b[0margs\u001b[0m\u001b[1;33m,\u001b[0m \u001b[0mscalex\u001b[0m\u001b[1;33m=\u001b[0m\u001b[1;32mTrue\u001b[0m\u001b[1;33m,\u001b[0m \u001b[0mscaley\u001b[0m\u001b[1;33m=\u001b[0m\u001b[1;32mTrue\u001b[0m\u001b[1;33m,\u001b[0m \u001b[0mdata\u001b[0m\u001b[1;33m=\u001b[0m\u001b[1;32mNone\u001b[0m\u001b[1;33m,\u001b[0m \u001b[1;33m**\u001b[0m\u001b[0mkwargs\u001b[0m\u001b[1;33m)\u001b[0m\u001b[1;33m:\u001b[0m\u001b[1;33m\u001b[0m\u001b[1;33m\u001b[0m\u001b[0m\n\u001b[1;32m-> 2840\u001b[1;33m     return gca().plot(\n\u001b[0m\u001b[0;32m   2841\u001b[0m         \u001b[1;33m*\u001b[0m\u001b[0margs\u001b[0m\u001b[1;33m,\u001b[0m \u001b[0mscalex\u001b[0m\u001b[1;33m=\u001b[0m\u001b[0mscalex\u001b[0m\u001b[1;33m,\u001b[0m \u001b[0mscaley\u001b[0m\u001b[1;33m=\u001b[0m\u001b[0mscaley\u001b[0m\u001b[1;33m,\u001b[0m\u001b[1;33m\u001b[0m\u001b[1;33m\u001b[0m\u001b[0m\n\u001b[0;32m   2842\u001b[0m         **({\"data\": data} if data is not None else {}), **kwargs)\n",
      "\u001b[1;32mC:\\ProgramData\\Anaconda3\\lib\\site-packages\\matplotlib\\axes\\_axes.py\u001b[0m in \u001b[0;36mplot\u001b[1;34m(self, scalex, scaley, data, *args, **kwargs)\u001b[0m\n\u001b[0;32m   1743\u001b[0m         \u001b[0mlines\u001b[0m \u001b[1;33m=\u001b[0m \u001b[1;33m[\u001b[0m\u001b[1;33m*\u001b[0m\u001b[0mself\u001b[0m\u001b[1;33m.\u001b[0m\u001b[0m_get_lines\u001b[0m\u001b[1;33m(\u001b[0m\u001b[1;33m*\u001b[0m\u001b[0margs\u001b[0m\u001b[1;33m,\u001b[0m \u001b[0mdata\u001b[0m\u001b[1;33m=\u001b[0m\u001b[0mdata\u001b[0m\u001b[1;33m,\u001b[0m \u001b[1;33m**\u001b[0m\u001b[0mkwargs\u001b[0m\u001b[1;33m)\u001b[0m\u001b[1;33m]\u001b[0m\u001b[1;33m\u001b[0m\u001b[1;33m\u001b[0m\u001b[0m\n\u001b[0;32m   1744\u001b[0m         \u001b[1;32mfor\u001b[0m \u001b[0mline\u001b[0m \u001b[1;32min\u001b[0m \u001b[0mlines\u001b[0m\u001b[1;33m:\u001b[0m\u001b[1;33m\u001b[0m\u001b[1;33m\u001b[0m\u001b[0m\n\u001b[1;32m-> 1745\u001b[1;33m             \u001b[0mself\u001b[0m\u001b[1;33m.\u001b[0m\u001b[0madd_line\u001b[0m\u001b[1;33m(\u001b[0m\u001b[0mline\u001b[0m\u001b[1;33m)\u001b[0m\u001b[1;33m\u001b[0m\u001b[1;33m\u001b[0m\u001b[0m\n\u001b[0m\u001b[0;32m   1746\u001b[0m         \u001b[0mself\u001b[0m\u001b[1;33m.\u001b[0m\u001b[0m_request_autoscale_view\u001b[0m\u001b[1;33m(\u001b[0m\u001b[0mscalex\u001b[0m\u001b[1;33m=\u001b[0m\u001b[0mscalex\u001b[0m\u001b[1;33m,\u001b[0m \u001b[0mscaley\u001b[0m\u001b[1;33m=\u001b[0m\u001b[0mscaley\u001b[0m\u001b[1;33m)\u001b[0m\u001b[1;33m\u001b[0m\u001b[1;33m\u001b[0m\u001b[0m\n\u001b[0;32m   1747\u001b[0m         \u001b[1;32mreturn\u001b[0m \u001b[0mlines\u001b[0m\u001b[1;33m\u001b[0m\u001b[1;33m\u001b[0m\u001b[0m\n",
      "\u001b[1;32mC:\\ProgramData\\Anaconda3\\lib\\site-packages\\matplotlib\\axes\\_base.py\u001b[0m in \u001b[0;36madd_line\u001b[1;34m(self, line)\u001b[0m\n\u001b[0;32m   1962\u001b[0m             \u001b[0mline\u001b[0m\u001b[1;33m.\u001b[0m\u001b[0mset_clip_path\u001b[0m\u001b[1;33m(\u001b[0m\u001b[0mself\u001b[0m\u001b[1;33m.\u001b[0m\u001b[0mpatch\u001b[0m\u001b[1;33m)\u001b[0m\u001b[1;33m\u001b[0m\u001b[1;33m\u001b[0m\u001b[0m\n\u001b[0;32m   1963\u001b[0m \u001b[1;33m\u001b[0m\u001b[0m\n\u001b[1;32m-> 1964\u001b[1;33m         \u001b[0mself\u001b[0m\u001b[1;33m.\u001b[0m\u001b[0m_update_line_limits\u001b[0m\u001b[1;33m(\u001b[0m\u001b[0mline\u001b[0m\u001b[1;33m)\u001b[0m\u001b[1;33m\u001b[0m\u001b[1;33m\u001b[0m\u001b[0m\n\u001b[0m\u001b[0;32m   1965\u001b[0m         \u001b[1;32mif\u001b[0m \u001b[1;32mnot\u001b[0m \u001b[0mline\u001b[0m\u001b[1;33m.\u001b[0m\u001b[0mget_label\u001b[0m\u001b[1;33m(\u001b[0m\u001b[1;33m)\u001b[0m\u001b[1;33m:\u001b[0m\u001b[1;33m\u001b[0m\u001b[1;33m\u001b[0m\u001b[0m\n\u001b[0;32m   1966\u001b[0m             \u001b[0mline\u001b[0m\u001b[1;33m.\u001b[0m\u001b[0mset_label\u001b[0m\u001b[1;33m(\u001b[0m\u001b[1;34m'_line%d'\u001b[0m \u001b[1;33m%\u001b[0m \u001b[0mlen\u001b[0m\u001b[1;33m(\u001b[0m\u001b[0mself\u001b[0m\u001b[1;33m.\u001b[0m\u001b[0mlines\u001b[0m\u001b[1;33m)\u001b[0m\u001b[1;33m)\u001b[0m\u001b[1;33m\u001b[0m\u001b[1;33m\u001b[0m\u001b[0m\n",
      "\u001b[1;32mC:\\ProgramData\\Anaconda3\\lib\\site-packages\\matplotlib\\axes\\_base.py\u001b[0m in \u001b[0;36m_update_line_limits\u001b[1;34m(self, line)\u001b[0m\n\u001b[0;32m   1984\u001b[0m         \u001b[0mFigures\u001b[0m \u001b[0mout\u001b[0m \u001b[0mthe\u001b[0m \u001b[0mdata\u001b[0m \u001b[0mlimit\u001b[0m \u001b[0mof\u001b[0m \u001b[0mthe\u001b[0m \u001b[0mgiven\u001b[0m \u001b[0mline\u001b[0m\u001b[1;33m,\u001b[0m \u001b[0mupdating\u001b[0m \u001b[0mself\u001b[0m\u001b[1;33m.\u001b[0m\u001b[0mdataLim\u001b[0m\u001b[1;33m.\u001b[0m\u001b[1;33m\u001b[0m\u001b[1;33m\u001b[0m\u001b[0m\n\u001b[0;32m   1985\u001b[0m         \"\"\"\n\u001b[1;32m-> 1986\u001b[1;33m         \u001b[0mpath\u001b[0m \u001b[1;33m=\u001b[0m \u001b[0mline\u001b[0m\u001b[1;33m.\u001b[0m\u001b[0mget_path\u001b[0m\u001b[1;33m(\u001b[0m\u001b[1;33m)\u001b[0m\u001b[1;33m\u001b[0m\u001b[1;33m\u001b[0m\u001b[0m\n\u001b[0m\u001b[0;32m   1987\u001b[0m         \u001b[1;32mif\u001b[0m \u001b[0mpath\u001b[0m\u001b[1;33m.\u001b[0m\u001b[0mvertices\u001b[0m\u001b[1;33m.\u001b[0m\u001b[0msize\u001b[0m \u001b[1;33m==\u001b[0m \u001b[1;36m0\u001b[0m\u001b[1;33m:\u001b[0m\u001b[1;33m\u001b[0m\u001b[1;33m\u001b[0m\u001b[0m\n\u001b[0;32m   1988\u001b[0m             \u001b[1;32mreturn\u001b[0m\u001b[1;33m\u001b[0m\u001b[1;33m\u001b[0m\u001b[0m\n",
      "\u001b[1;32mC:\\ProgramData\\Anaconda3\\lib\\site-packages\\matplotlib\\lines.py\u001b[0m in \u001b[0;36mget_path\u001b[1;34m(self)\u001b[0m\n\u001b[0;32m   1009\u001b[0m         \"\"\"\n\u001b[0;32m   1010\u001b[0m         \u001b[1;32mif\u001b[0m \u001b[0mself\u001b[0m\u001b[1;33m.\u001b[0m\u001b[0m_invalidy\u001b[0m \u001b[1;32mor\u001b[0m \u001b[0mself\u001b[0m\u001b[1;33m.\u001b[0m\u001b[0m_invalidx\u001b[0m\u001b[1;33m:\u001b[0m\u001b[1;33m\u001b[0m\u001b[1;33m\u001b[0m\u001b[0m\n\u001b[1;32m-> 1011\u001b[1;33m             \u001b[0mself\u001b[0m\u001b[1;33m.\u001b[0m\u001b[0mrecache\u001b[0m\u001b[1;33m(\u001b[0m\u001b[1;33m)\u001b[0m\u001b[1;33m\u001b[0m\u001b[1;33m\u001b[0m\u001b[0m\n\u001b[0m\u001b[0;32m   1012\u001b[0m         \u001b[1;32mreturn\u001b[0m \u001b[0mself\u001b[0m\u001b[1;33m.\u001b[0m\u001b[0m_path\u001b[0m\u001b[1;33m\u001b[0m\u001b[1;33m\u001b[0m\u001b[0m\n\u001b[0;32m   1013\u001b[0m \u001b[1;33m\u001b[0m\u001b[0m\n",
      "\u001b[1;32mC:\\ProgramData\\Anaconda3\\lib\\site-packages\\matplotlib\\lines.py\u001b[0m in \u001b[0;36mrecache\u001b[1;34m(self, always)\u001b[0m\n\u001b[0;32m    656\u001b[0m         \u001b[1;32mif\u001b[0m \u001b[0malways\u001b[0m \u001b[1;32mor\u001b[0m \u001b[0mself\u001b[0m\u001b[1;33m.\u001b[0m\u001b[0m_invalidy\u001b[0m\u001b[1;33m:\u001b[0m\u001b[1;33m\u001b[0m\u001b[1;33m\u001b[0m\u001b[0m\n\u001b[0;32m    657\u001b[0m             \u001b[0myconv\u001b[0m \u001b[1;33m=\u001b[0m \u001b[0mself\u001b[0m\u001b[1;33m.\u001b[0m\u001b[0mconvert_yunits\u001b[0m\u001b[1;33m(\u001b[0m\u001b[0mself\u001b[0m\u001b[1;33m.\u001b[0m\u001b[0m_yorig\u001b[0m\u001b[1;33m)\u001b[0m\u001b[1;33m\u001b[0m\u001b[1;33m\u001b[0m\u001b[0m\n\u001b[1;32m--> 658\u001b[1;33m             \u001b[0my\u001b[0m \u001b[1;33m=\u001b[0m \u001b[0m_to_unmasked_float_array\u001b[0m\u001b[1;33m(\u001b[0m\u001b[0myconv\u001b[0m\u001b[1;33m)\u001b[0m\u001b[1;33m.\u001b[0m\u001b[0mravel\u001b[0m\u001b[1;33m(\u001b[0m\u001b[1;33m)\u001b[0m\u001b[1;33m\u001b[0m\u001b[1;33m\u001b[0m\u001b[0m\n\u001b[0m\u001b[0;32m    659\u001b[0m         \u001b[1;32melse\u001b[0m\u001b[1;33m:\u001b[0m\u001b[1;33m\u001b[0m\u001b[1;33m\u001b[0m\u001b[0m\n\u001b[0;32m    660\u001b[0m             \u001b[0my\u001b[0m \u001b[1;33m=\u001b[0m \u001b[0mself\u001b[0m\u001b[1;33m.\u001b[0m\u001b[0m_y\u001b[0m\u001b[1;33m\u001b[0m\u001b[1;33m\u001b[0m\u001b[0m\n",
      "\u001b[1;32mC:\\ProgramData\\Anaconda3\\lib\\site-packages\\matplotlib\\cbook\\__init__.py\u001b[0m in \u001b[0;36m_to_unmasked_float_array\u001b[1;34m(x)\u001b[0m\n\u001b[0;32m   1287\u001b[0m         \u001b[1;32mreturn\u001b[0m \u001b[0mnp\u001b[0m\u001b[1;33m.\u001b[0m\u001b[0mma\u001b[0m\u001b[1;33m.\u001b[0m\u001b[0masarray\u001b[0m\u001b[1;33m(\u001b[0m\u001b[0mx\u001b[0m\u001b[1;33m,\u001b[0m \u001b[0mfloat\u001b[0m\u001b[1;33m)\u001b[0m\u001b[1;33m.\u001b[0m\u001b[0mfilled\u001b[0m\u001b[1;33m(\u001b[0m\u001b[0mnp\u001b[0m\u001b[1;33m.\u001b[0m\u001b[0mnan\u001b[0m\u001b[1;33m)\u001b[0m\u001b[1;33m\u001b[0m\u001b[1;33m\u001b[0m\u001b[0m\n\u001b[0;32m   1288\u001b[0m     \u001b[1;32melse\u001b[0m\u001b[1;33m:\u001b[0m\u001b[1;33m\u001b[0m\u001b[1;33m\u001b[0m\u001b[0m\n\u001b[1;32m-> 1289\u001b[1;33m         \u001b[1;32mreturn\u001b[0m \u001b[0mnp\u001b[0m\u001b[1;33m.\u001b[0m\u001b[0masarray\u001b[0m\u001b[1;33m(\u001b[0m\u001b[0mx\u001b[0m\u001b[1;33m,\u001b[0m \u001b[0mfloat\u001b[0m\u001b[1;33m)\u001b[0m\u001b[1;33m\u001b[0m\u001b[1;33m\u001b[0m\u001b[0m\n\u001b[0m\u001b[0;32m   1290\u001b[0m \u001b[1;33m\u001b[0m\u001b[0m\n\u001b[0;32m   1291\u001b[0m \u001b[1;33m\u001b[0m\u001b[0m\n",
      "\u001b[1;32mC:\\ProgramData\\Anaconda3\\lib\\site-packages\\numpy\\core\\_asarray.py\u001b[0m in \u001b[0;36masarray\u001b[1;34m(a, dtype, order, like)\u001b[0m\n\u001b[0;32m    100\u001b[0m         \u001b[1;32mreturn\u001b[0m \u001b[0m_asarray_with_like\u001b[0m\u001b[1;33m(\u001b[0m\u001b[0ma\u001b[0m\u001b[1;33m,\u001b[0m \u001b[0mdtype\u001b[0m\u001b[1;33m=\u001b[0m\u001b[0mdtype\u001b[0m\u001b[1;33m,\u001b[0m \u001b[0morder\u001b[0m\u001b[1;33m=\u001b[0m\u001b[0morder\u001b[0m\u001b[1;33m,\u001b[0m \u001b[0mlike\u001b[0m\u001b[1;33m=\u001b[0m\u001b[0mlike\u001b[0m\u001b[1;33m)\u001b[0m\u001b[1;33m\u001b[0m\u001b[1;33m\u001b[0m\u001b[0m\n\u001b[0;32m    101\u001b[0m \u001b[1;33m\u001b[0m\u001b[0m\n\u001b[1;32m--> 102\u001b[1;33m     \u001b[1;32mreturn\u001b[0m \u001b[0marray\u001b[0m\u001b[1;33m(\u001b[0m\u001b[0ma\u001b[0m\u001b[1;33m,\u001b[0m \u001b[0mdtype\u001b[0m\u001b[1;33m,\u001b[0m \u001b[0mcopy\u001b[0m\u001b[1;33m=\u001b[0m\u001b[1;32mFalse\u001b[0m\u001b[1;33m,\u001b[0m \u001b[0morder\u001b[0m\u001b[1;33m=\u001b[0m\u001b[0morder\u001b[0m\u001b[1;33m)\u001b[0m\u001b[1;33m\u001b[0m\u001b[1;33m\u001b[0m\u001b[0m\n\u001b[0m\u001b[0;32m    103\u001b[0m \u001b[1;33m\u001b[0m\u001b[0m\n\u001b[0;32m    104\u001b[0m \u001b[1;33m\u001b[0m\u001b[0m\n",
      "\u001b[1;32mC:\\ProgramData\\Anaconda3\\lib\\site-packages\\sympy\\core\\expr.py\u001b[0m in \u001b[0;36m__float__\u001b[1;34m(self)\u001b[0m\n\u001b[0;32m    355\u001b[0m             \u001b[1;32mreturn\u001b[0m \u001b[0mfloat\u001b[0m\u001b[1;33m(\u001b[0m\u001b[0mresult\u001b[0m\u001b[1;33m)\u001b[0m\u001b[1;33m\u001b[0m\u001b[1;33m\u001b[0m\u001b[0m\n\u001b[0;32m    356\u001b[0m         \u001b[1;32mif\u001b[0m \u001b[0mresult\u001b[0m\u001b[1;33m.\u001b[0m\u001b[0mis_number\u001b[0m \u001b[1;32mand\u001b[0m \u001b[0mresult\u001b[0m\u001b[1;33m.\u001b[0m\u001b[0mas_real_imag\u001b[0m\u001b[1;33m(\u001b[0m\u001b[1;33m)\u001b[0m\u001b[1;33m[\u001b[0m\u001b[1;36m1\u001b[0m\u001b[1;33m]\u001b[0m\u001b[1;33m:\u001b[0m\u001b[1;33m\u001b[0m\u001b[1;33m\u001b[0m\u001b[0m\n\u001b[1;32m--> 357\u001b[1;33m             \u001b[1;32mraise\u001b[0m \u001b[0mTypeError\u001b[0m\u001b[1;33m(\u001b[0m\u001b[1;34m\"can't convert complex to float\"\u001b[0m\u001b[1;33m)\u001b[0m\u001b[1;33m\u001b[0m\u001b[1;33m\u001b[0m\u001b[0m\n\u001b[0m\u001b[0;32m    358\u001b[0m         \u001b[1;32mraise\u001b[0m \u001b[0mTypeError\u001b[0m\u001b[1;33m(\u001b[0m\u001b[1;34m\"can't convert expression to float\"\u001b[0m\u001b[1;33m)\u001b[0m\u001b[1;33m\u001b[0m\u001b[1;33m\u001b[0m\u001b[0m\n\u001b[0;32m    359\u001b[0m \u001b[1;33m\u001b[0m\u001b[0m\n",
      "\u001b[1;31mTypeError\u001b[0m: can't convert complex to float"
     ]
    },
    {
     "data": {
      "image/png": "[encoded data removed]",
      "text/plain": [
       "<Figure size 432x288 with 1 Axes>"
      ]
     },
     "metadata": {
      "needs_background": "light"
     },
     "output_type": "display_data"
    }
   ],
   "source": [
    "plt.plot(x_axis, y_axis)\n",
    "plt.title(f\"Math graph y = {function_string}\")\n",
    "plt.show()\n",
    "plt.clf()"
   ]
  }
 ],
 "metadata": {
  "kernelspec": {
   "display_name": "Python 3",
   "language": "python",
   "name": "python3"
  },
  "language_info": {
   "codemirror_mode": {
    "name": "ipython",
    "version": 3
   },
   "file_extension": ".py",
   "mimetype": "text/x-python",
   "name": "python",
   "nbconvert_exporter": "python",
   "pygments_lexer": "ipython3",
   "version": "3.8.8"
  },
  "nbTranslate": {
   "displayLangs": [
    "*"
   ],
   "hotkey": "alt-t",
   "langInMainMenu": true,
   "sourceLang": "en",
   "targetLang": "fr",
   "useGoogleTranslate": true
  }
 },
 "nbformat": 4,
 "nbformat_minor": 5
}
